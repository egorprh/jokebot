{
  "nbformat": 4,
  "nbformat_minor": 0,
  "metadata": {
    "colab": {
      "name": "JokesHelperBot.ipynb",
      "provenance": [],
      "authorship_tag": "ABX9TyNSGaiADv3klPOB218vgbfp",
      "include_colab_link": true
    },
    "kernelspec": {
      "name": "python3",
      "display_name": "Python 3"
    },
    "language_info": {
      "name": "python"
    }
  },
  "cells": [
    {
      "cell_type": "markdown",
      "metadata": {
        "id": "view-in-github",
        "colab_type": "text"
      },
      "source": [
        "<a href=\"https://colab.research.google.com/github/egorprh/jokebot/blob/main/JokesHelperBot.ipynb\" target=\"_parent\"><img src=\"https://colab.research.google.com/assets/colab-badge.svg\" alt=\"Open In Colab\"/></a>"
      ]
    },
    {
      "cell_type": "code",
      "metadata": {
        "colab": {
          "base_uri": "https://localhost:8080/",
          "height": 690
        },
        "id": "R-md7CEEreBy",
        "outputId": "dcebfadb-45ab-4944-b8c7-a4065dd7219a"
      },
      "source": [
        "# Для начала пусть помогает писать по приемам.\n",
        "#1) Спрашивает проблему и запоминает\n",
        "#2) Предлагает список приемов\n",
        "#3) Цифрой выбираешь прием\n",
        "#4) Он выводит проблему, название приема и ждет ввода шутки\n",
        "#5) Вводишь шутку, он её выводит с хештегом даты, приема, типа написания, чтоб потом в диалоге можно было фильтрануть\n",
        "#5) Есть кнопка перехода к конкретному приему\n",
        "#6) Нажимаешь на неё, бот выводит список приемов и ожидает цифру\n",
        "#7) Есть внопка завершить - останавливает всё\n",
        "\n",
        "import datetime\n",
        "now = datetime.datetime.now()\n",
        "\n",
        "# Список приемов\n",
        "tricks = {\n",
        "  #Прямые шутки\n",
        "  \"1\" : \"1. Гипербола\",\n",
        "  \"2\" : \"2. НТЗ\",\n",
        "  #Миксы\n",
        "  \"3\" : \"3. Метафора. Классический микс на процессы.\",\n",
        "  \"4\" : \"4. Сравнение несравнимого.\",\n",
        "  \"5\" : \"5. Смешение сеттингов.\",\n",
        "  #Неожиданные шутки.\n",
        "  \"6\" : \"6. Замещение ожидания\",\n",
        "  \"7\" : \"7. Примечание\",\n",
        "  \"8\" : \"8. Сдвиг акцента\",\n",
        "  \"9\" : \"9. Правило трех\",\n",
        "  \"10\" : \"10. Буффонада\"\n",
        "}\n",
        "\n",
        "userInput = '';\n",
        "\n",
        "def trickOffer(problem):\n",
        "    #2) Предлагает список приемов\n",
        "    tricksList = tricks.values()\n",
        "    tricksText = 'Проблема: ' + problem + '\\n' + 'Cписок приемов следующий: \\n' + '\\n'.join(tricksList)\n",
        "    print(tricksText)\n",
        "    #3) Цифрой выбираешь прием\n",
        "    userInput = input('\\nКакой прием выбираешь? ')\n",
        "\n",
        "    return userInput\n",
        "\n",
        "def trickWork(problem, tricksNum):\n",
        "    #4) Он выводит проблему, название приема и ждет ввода шутки\n",
        "    print('Проблема: ' + problem + '\\n' + 'Прием: ' + tricks[tricksNum])\n",
        "    userInput = input('Давай шутку: ')\n",
        "    #5) Вводишь шутку, он её выводит с хештегом даты, приема, типа написания, чтоб потом в диалоге можно было фильтрануть\n",
        "    print('Проблема: ' + problem + '\\n' + '#' + tricks[tricksNum] + '/n#' + now.strftime(\"%d%m%Y\"))\n",
        "\n",
        "    return userInput\n",
        "\n",
        "userInput = problem = input('Давай проблему: ')\n",
        "userInput = tricksNum = trickOffer(problem)\n",
        "\n",
        "if userInput in [\"1\", \"2\", \"3\", \"4\", \"5\", \"6\", \"7\", \"8\", \"9\", \"10\"]:\n",
        "  #1) Спрашивает проблему и запоминает\n",
        "  while userInput != 'Стоп' or userInput != 'Другой прием':\n",
        "    userInput = tricksNum = trickWork(problem, tricksNum)\n",
        "elif userInput == 'Другой прием':\n",
        "  userInput = tricksNum = trickOffer(problem)\n",
        "else:\n",
        "  exit()\n"
      ],
      "execution_count": null,
      "outputs": [
        {
          "output_type": "stream",
          "name": "stdout",
          "text": [
            "Давай проблему: 123\n",
            "Проблема: 123\n",
            "Cписок приемов следующий: \n",
            "1. Гипербола\n",
            "2. НТЗ\n",
            "3. Метафора. Классический микс на процессы.\n",
            "4. Сравнение несравнимого.\n",
            "5. Смешение сеттингов.\n",
            "6. Замещение ожидания\n",
            "7. Примечание\n",
            "8. Сдвиг акцента\n",
            "9. Правило трех\n",
            "10. Буффонада\n",
            "\n",
            "Какой прием выбираешь? 3\n",
            "Проблема: 123\n",
            "Прием: 3. Метафора. Классический микс на процессы.\n",
            "Давай шутку: hdskfj\n",
            "Проблема: 123\n",
            "#3. Метафора. Классический микс на процессы./n#24102021\n"
          ]
        },
        {
          "output_type": "error",
          "ename": "KeyError",
          "evalue": "ignored",
          "traceback": [
            "\u001b[0;31m---------------------------------------------------------------------------\u001b[0m",
            "\u001b[0;31mKeyError\u001b[0m                                  Traceback (most recent call last)",
            "\u001b[0;32m<ipython-input-6-4ca4db02a4a0>\u001b[0m in \u001b[0;36m<module>\u001b[0;34m()\u001b[0m\n\u001b[1;32m     56\u001b[0m   \u001b[0;31m#1) Спрашивает проблему и запоминает\u001b[0m\u001b[0;34m\u001b[0m\u001b[0;34m\u001b[0m\u001b[0;34m\u001b[0m\u001b[0m\n\u001b[1;32m     57\u001b[0m   \u001b[0;32mwhile\u001b[0m \u001b[0muserInput\u001b[0m \u001b[0;34m!=\u001b[0m \u001b[0;34m'Стоп'\u001b[0m \u001b[0;32mor\u001b[0m \u001b[0muserInput\u001b[0m \u001b[0;34m!=\u001b[0m \u001b[0;34m'Другой прием'\u001b[0m\u001b[0;34m:\u001b[0m\u001b[0;34m\u001b[0m\u001b[0;34m\u001b[0m\u001b[0m\n\u001b[0;32m---> 58\u001b[0;31m     \u001b[0muserInput\u001b[0m \u001b[0;34m=\u001b[0m \u001b[0mtricksNum\u001b[0m \u001b[0;34m=\u001b[0m \u001b[0mtrickWork\u001b[0m\u001b[0;34m(\u001b[0m\u001b[0mproblem\u001b[0m\u001b[0;34m,\u001b[0m \u001b[0mtricksNum\u001b[0m\u001b[0;34m)\u001b[0m\u001b[0;34m\u001b[0m\u001b[0;34m\u001b[0m\u001b[0m\n\u001b[0m\u001b[1;32m     59\u001b[0m \u001b[0;32melif\u001b[0m \u001b[0muserInput\u001b[0m \u001b[0;34m==\u001b[0m \u001b[0;34m'Другой прием'\u001b[0m\u001b[0;34m:\u001b[0m\u001b[0;34m\u001b[0m\u001b[0;34m\u001b[0m\u001b[0m\n\u001b[1;32m     60\u001b[0m   \u001b[0muserInput\u001b[0m \u001b[0;34m=\u001b[0m \u001b[0mtricksNum\u001b[0m \u001b[0;34m=\u001b[0m \u001b[0mtrickOffer\u001b[0m\u001b[0;34m(\u001b[0m\u001b[0mproblem\u001b[0m\u001b[0;34m)\u001b[0m\u001b[0;34m\u001b[0m\u001b[0;34m\u001b[0m\u001b[0m\n",
            "\u001b[0;32m<ipython-input-6-4ca4db02a4a0>\u001b[0m in \u001b[0;36mtrickWork\u001b[0;34m(problem, tricksNum)\u001b[0m\n\u001b[1;32m     43\u001b[0m \u001b[0;32mdef\u001b[0m \u001b[0mtrickWork\u001b[0m\u001b[0;34m(\u001b[0m\u001b[0mproblem\u001b[0m\u001b[0;34m,\u001b[0m \u001b[0mtricksNum\u001b[0m\u001b[0;34m)\u001b[0m\u001b[0;34m:\u001b[0m\u001b[0;34m\u001b[0m\u001b[0;34m\u001b[0m\u001b[0m\n\u001b[1;32m     44\u001b[0m     \u001b[0;31m#4) Он выводит проблему, название приема и ждет ввода шутки\u001b[0m\u001b[0;34m\u001b[0m\u001b[0;34m\u001b[0m\u001b[0;34m\u001b[0m\u001b[0m\n\u001b[0;32m---> 45\u001b[0;31m     \u001b[0mprint\u001b[0m\u001b[0;34m(\u001b[0m\u001b[0;34m'Проблема: '\u001b[0m \u001b[0;34m+\u001b[0m \u001b[0mproblem\u001b[0m \u001b[0;34m+\u001b[0m \u001b[0;34m'\\n'\u001b[0m \u001b[0;34m+\u001b[0m \u001b[0;34m'Прием: '\u001b[0m \u001b[0;34m+\u001b[0m \u001b[0mtricks\u001b[0m\u001b[0;34m[\u001b[0m\u001b[0mtricksNum\u001b[0m\u001b[0;34m]\u001b[0m\u001b[0;34m)\u001b[0m\u001b[0;34m\u001b[0m\u001b[0;34m\u001b[0m\u001b[0m\n\u001b[0m\u001b[1;32m     46\u001b[0m     \u001b[0muserInput\u001b[0m \u001b[0;34m=\u001b[0m \u001b[0minput\u001b[0m\u001b[0;34m(\u001b[0m\u001b[0;34m'Давай шутку: '\u001b[0m\u001b[0;34m)\u001b[0m\u001b[0;34m\u001b[0m\u001b[0;34m\u001b[0m\u001b[0m\n\u001b[1;32m     47\u001b[0m     \u001b[0;31m#5) Вводишь шутку, он её выводит с хештегом даты, приема, типа написания, чтоб потом в диалоге можно было фильтрануть\u001b[0m\u001b[0;34m\u001b[0m\u001b[0;34m\u001b[0m\u001b[0;34m\u001b[0m\u001b[0m\n",
            "\u001b[0;31mKeyError\u001b[0m: 'hdskfj'"
          ]
        }
      ]
    }
  ]
}